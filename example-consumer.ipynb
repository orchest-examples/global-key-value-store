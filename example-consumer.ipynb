{
 "cells": [
  {
   "cell_type": "code",
   "execution_count": 1,
   "id": "39127ace-bc69-46e0-8d6b-b88ad8b1b550",
   "metadata": {},
   "outputs": [],
   "source": [
    "from utils import get_shared_dict"
   ]
  },
  {
   "cell_type": "code",
   "execution_count": 2,
   "id": "d5d08c09-db1f-44e0-b4c7-88f99cd593e5",
   "metadata": {},
   "outputs": [],
   "source": [
    "global_dict = get_shared_dict()"
   ]
  },
  {
   "cell_type": "code",
   "execution_count": 3,
   "id": "8a5f508f-4138-48ce-b252-ec1768a82ead",
   "metadata": {},
   "outputs": [
    {
     "data": {
      "text/plain": [
       "'world'"
      ]
     },
     "execution_count": 3,
     "metadata": {},
     "output_type": "execute_result"
    }
   ],
   "source": [
    "global_dict['hello']"
   ]
  }
 ],
 "metadata": {
  "kernelspec": {
   "display_name": "Python 3",
   "language": "python",
   "name": "orchest-kernel-9327009b-602f-49d8-a727-fee7a063fa7c"
  },
  "language_info": {
   "codemirror_mode": {
    "name": "ipython",
    "version": 3
   },
   "file_extension": ".py",
   "mimetype": "text/x-python",
   "name": "python",
   "nbconvert_exporter": "python",
   "pygments_lexer": "ipython3",
   "version": "3.9.10"
  }
 },
 "nbformat": 4,
 "nbformat_minor": 5
}
