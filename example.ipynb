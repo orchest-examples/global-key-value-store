{
 "cells": [
  {
   "cell_type": "code",
   "execution_count": 2,
   "id": "944e4835-d970-4405-ad40-8dd833307216",
   "metadata": {},
   "outputs": [],
   "source": [
    "from utils import get_shared_dict"
   ]
  },
  {
   "cell_type": "code",
   "execution_count": 3,
   "id": "a9d3e867-6004-4ed8-9a6a-5c492bacc8df",
   "metadata": {},
   "outputs": [],
   "source": [
    "global_dict = get_shared_dict()"
   ]
  },
  {
   "cell_type": "code",
   "execution_count": 5,
   "id": "18142a3e-f616-4d9f-a427-7c469c51ea6f",
   "metadata": {},
   "outputs": [],
   "source": [
    "global_dict['hello'] = 'world'"
   ]
  }
 ],
 "metadata": {
  "kernelspec": {
   "display_name": "Python 3",
   "language": "python",
   "name": "orchest-kernel-9327009b-602f-49d8-a727-fee7a063fa7c"
  },
  "language_info": {
   "codemirror_mode": {
    "name": "ipython",
    "version": 3
   },
   "file_extension": ".py",
   "mimetype": "text/x-python",
   "name": "python",
   "nbconvert_exporter": "python",
   "pygments_lexer": "ipython3",
   "version": "3.9.10"
  }
 },
 "nbformat": 4,
 "nbformat_minor": 5
}
